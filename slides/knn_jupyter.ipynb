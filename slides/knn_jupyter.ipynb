{
 "cells": [
  {
   "cell_type": "markdown",
   "metadata": {},
   "source": [
    "# Introduktion til KNN-algoritmen \n",
    "\n",
    "## Af Henrik Sterner (hst@nextkbh.dk)\n",
    "KNN er en af de mest simple algoritmer indenfor maskinelæring. Den er så simpel at den kan implementeres i få linjer kode. Den er dog også en af de mest anvendte algoritmer, og den er en god introduktion til maskinelæring.\n",
    "\n",
    "Grunden til at KNN er så simpel er at den ikke laver nogen form for generalisering. Den gemmer blot alle træningsdata og sammenligner med disse når den skal forudsige en ny værdi.\n",
    "\n",
    "KNN er en såkaldt supervised learning algoritme, hvilket betyder at den skal bruge træningsdata, hvor den kender både input og output. I dette tilfælde er inputtet en vektor af tal, og outputtet er en kategori. Kategorien kunne være om en person er mand eller kvinde, om en blomst er en rose eller en tulipan, eller om en person er syg eller rask. Herunder nogle mulige eksempler på træningsdata:\n",
    "I princippet kan rød eller blå erstatte med 0 eller 1, eller med sand eller falsk, eller alle mulige andre værdier. Eksempler på disse værdier kaldes klasser. De kunne eksempelvis være: \n",
    "- 0 eller 1\n",
    "- sand eller falsk\n",
    "- rød eller blå\n",
    "- mand eller kvinde\n",
    "- kat eller hund\n",
    "- kræft eller ikke kræft\n",
    "- Trump eller Biden\n",
    "- osv.\n",
    "\n",
    "\n",
    "\n",
    "Selvom den er simpel, så er den også en af de mest anvendte algoritmer. Det skyldes at den er hurtig og ofte giver gode resultater. Den er også nem at forstå og nem at implementere.\n"
   ]
  },
  {
   "cell_type": "markdown",
   "metadata": {},
   "source": [
    "# 1-NN \n",
    "Vi starter med at se på en af de mest simple algoritmer indenfor maskinelæring, nemlig 1-NN.\n",
    "Men det er ikke helt så simpelt som det lyder og det er en god måde at introducere en række begreber på."
   ]
  },
  {
   "cell_type": "markdown",
   "metadata": {},
   "source": [
    "## Pseudokode for 1-NN fra bunden i planen\n",
    "I det følgende vil vi gennemgå pseudokoden for 1-NN-algoritmen i planen.\n",
    "\n",
    "Betragt nogle punkter i 2D-planen. De er på formen (x,y) og hvert punkt har en farve. Enten rød eller blå.\n",
    "\n",
    "For 1-NN-algoritmen har vi nogle punkter som vi kender farven på. Vi kalder dem træningspunkterne.\n",
    "\n",
    "Målet for 1-NN er at finde farven på et nyt punkt, som vi ikke kender farven på. Vi kalder det for testpunktet.\n",
    "\n",
    "Herunder en forklaring af 1-NN-algoritmen i pseudokode.\n",
    "\n",
    "```python\n",
    "# 1-NN-algoritmen\n",
    "# Input:\n",
    "#   træningspunkter: en liste af punkter med kendt farve\n",
    "#   testpunkt: et punkt som vi ikke kender farven på\n",
    "# Output:\n",
    "#   farven på testpunktet\n",
    "\n",
    "```\n",
    "Herunder i detaljer hvorledes algoritmen fungerer:\n",
    "\n",
    "```python\n",
    "# 1. Beregn afstanden mellem testpunktet og hvert træningspunkt\n",
    "# 2. Find det træningspunkt som er tættest på testpunktet\n",
    "# 3. Returner farven på det træningspunkt\n",
    "```\n"
   ]
  },
  {
   "cell_type": "markdown",
   "metadata": {},
   "source": [
    "\n",
    "I det følgende vil vi gennemgå koden for 1-NN-algoritmen i planen, hvor vi ikke anvender nogle\n",
    "indbyggede biblioteker herunder numpy, scikit, matplotlib etc. \n",
    "\n",
    "Først genererer vi nogle punkter i 2D-planen. De er på formen (x,y) og hvert punkt har en farve. Enten rød eller blå.\n",
    "\n"
   ]
  },
  {
   "cell_type": "code",
   "execution_count": 14,
   "metadata": {},
   "outputs": [],
   "source": [
    "\n",
    "# Funktion til at generere n punkter i 2D-planen med kendte farver: rød eller blå\n",
    "# Input:\n",
    "#   n: antal punkter\n",
    "# Output:\n",
    "#   liste af punkter\n",
    "#   hvert punkt er en tuple (x,y,color)\n",
    "#   x og y er koordinaterne\n",
    "#   color er farven: 'red' eller 'blue'\n",
    "def generate_points(n):\n",
    "    points = []\n",
    "    for i in range(n):\n",
    "        x = random.random()\n",
    "        y = random.random()\n",
    "        if x + y > 1:\n",
    "            color = 'red'\n",
    "        else:\n",
    "            color = 'blue'\n",
    "        points.append((x,y,color))\n",
    "    return points"
   ]
  },
  {
   "cell_type": "markdown",
   "metadata": {},
   "source": [
    "Lad os prøve at bruge generate_points af i praksis ved at generere 100 punkter:\n"
   ]
  },
  {
   "cell_type": "code",
   "execution_count": 15,
   "metadata": {},
   "outputs": [
    {
     "ename": "NameError",
     "evalue": "name 'generate_Points' is not defined",
     "output_type": "error",
     "traceback": [
      "\u001b[1;31m---------------------------------------------------------------------------\u001b[0m",
      "\u001b[1;31mNameError\u001b[0m                                 Traceback (most recent call last)",
      "\u001b[1;32mc:\\code\\IntelligenteSystemer\\slides\\knn_jupyter.ipynb Cell 7\u001b[0m line \u001b[0;36m2\n\u001b[0;32m      <a href='vscode-notebook-cell:/c%3A/code/IntelligenteSystemer/slides/knn_jupyter.ipynb#W6sZmlsZQ%3D%3D?line=0'>1</a>\u001b[0m \u001b[39m# vi kalder generate_Points funktionen med 100 punkter:\u001b[39;00m\n\u001b[1;32m----> <a href='vscode-notebook-cell:/c%3A/code/IntelligenteSystemer/slides/knn_jupyter.ipynb#W6sZmlsZQ%3D%3D?line=1'>2</a>\u001b[0m points \u001b[39m=\u001b[39m generate_Points(\u001b[39m100\u001b[39m)\n\u001b[0;32m      <a href='vscode-notebook-cell:/c%3A/code/IntelligenteSystemer/slides/knn_jupyter.ipynb#W6sZmlsZQ%3D%3D?line=2'>3</a>\u001b[0m \u001b[39mprint\u001b[39m(points)\n",
      "\u001b[1;31mNameError\u001b[0m: name 'generate_Points' is not defined"
     ]
    }
   ],
   "source": [
    "# vi kalder generate_Points funktionen med 100 punkter:\n",
    "points = generate_Points(100)\n",
    "print(points)"
   ]
  },
  {
   "cell_type": "markdown",
   "metadata": {},
   "source": [
    "\n",
    "Vi får brug for en funktion til at visualisere punkterne i 2D-planen. \n",
    "\n",
    "```python\n",
    "# Funktion til at visualisere punkterne i 2D-planen\n",
    "# Input:\n",
    "#   points: liste af punkter\n",
    "# Output:\n",
    "#   ingen (visuelt plot)\n",
    "```\n",
    "Herunder en funktion der visualiserer punkterne i 2D-planen.\n"
   ]
  },
  {
   "cell_type": "code",
   "execution_count": null,
   "metadata": {},
   "outputs": [],
   "source": [
    "    \n",
    "def plot_points(points):\n",
    "    for point in points:\n",
    "        x = point[0]\n",
    "        y = point[1]\n",
    "        color = point[2]\n",
    "        plt.plot(x,y,'o',color=color)\n",
    "    plt.show()\n",
    "   "
   ]
  },
  {
   "cell_type": "markdown",
   "metadata": {},
   "source": [
    " \n",
    "Vi genererer nogle punkter og visualiserer dem:\n"
   ]
  },
  {
   "cell_type": "code",
   "execution_count": null,
   "metadata": {},
   "outputs": [],
   "source": [
    "\n",
    "points = generate_points(10)\n",
    "plot_points(points)"
   ]
  },
  {
   "cell_type": "markdown",
   "metadata": {},
   "source": [
    "\n",
    "\n",
    "Vi har nu nogle punkter i 2D-planen med kendte farver. Vi kalder dem træningspunkterne.\n",
    "\n",
    "Målet for 1-NN er at finde farven på et nyt punkt, som vi ikke kender farven på. Vi kalder det for testpunktet.\n",
    "\n",
    "Vi genererer et testpunkt og visualiserer det sammen med træningspunkterne:\n"
   ]
  },
  {
   "cell_type": "code",
   "execution_count": null,
   "metadata": {},
   "outputs": [],
   "source": [
    "testpoint = generate_points(1)\n",
    "plot_points(points+testpoint)"
   ]
  },
  {
   "cell_type": "markdown",
   "metadata": {},
   "source": [
    "\n",
    "Vi har nu nogle træningspunkter og et testpunkt. Vi vil nu finde farven på testpunktet.\n",
    "\n",
    "Vi starter med at beregne afstanden mellem testpunktet og hvert træningspunkt:\n"
   ]
  },
  {
   "cell_type": "code",
   "execution_count": null,
   "metadata": {},
   "outputs": [],
   "source": [
    "\n",
    "def distance(point1,point2):\n",
    "    x1 = point1[0]\n",
    "    y1 = point1[1]\n",
    "    x2 = point2[0]\n",
    "    y2 = point2[1]\n",
    "    return math.sqrt((x1-x2)**2+(y1-y2)**2)\n",
    "    \n"
   ]
  },
  {
   "cell_type": "markdown",
   "metadata": {},
   "source": [
    "Vi finder det træningspunkt som er tættest på testpunktet:\n",
    "    \n"
   ]
  },
  {
   "cell_type": "code",
   "execution_count": null,
   "metadata": {},
   "outputs": [],
   "source": [
    "def find_nearest(points,testpoint):\n",
    "    nearest = points[0]\n",
    "    nearest_distance = distance(points[0],testpoint)\n",
    "    for point in points[1:]:\n",
    "        d = distance(point,testpoint)\n",
    "        if d < nearest_distance:\n",
    "            nearest = point\n",
    "            nearest_distance = d\n",
    "    return nearest"
   ]
  },
  {
   "cell_type": "markdown",
   "metadata": {},
   "source": [
    "Vi returnerer farven på det træningspunkt:\n"
   ]
  },
  {
   "cell_type": "code",
   "execution_count": null,
   "metadata": {},
   "outputs": [],
   "source": [
    "\n",
    "def find_color(points,testpoint):\n",
    "    nearest = find_nearest(points,testpoint)\n",
    "    return nearest[2]\n",
    "    "
   ]
  },
  {
   "cell_type": "markdown",
   "metadata": {},
   "source": [
    " \n",
    "Vi kan nu teste vores 1-NN-algoritme:\n"
   ]
  },
  {
   "cell_type": "code",
   "execution_count": null,
   "metadata": {},
   "outputs": [],
   "source": [
    "\n",
    "print(find_color(points,testpoint[0]))\n"
   ]
  },
  {
   "cell_type": "markdown",
   "metadata": {},
   "source": [
    "\n",
    "Vi kan nu teste vores 1-NN-algoritme på flere testpunkter:\n"
   ]
  },
  {
   "cell_type": "code",
   "execution_count": null,
   "metadata": {},
   "outputs": [],
   "source": [
    "testpoints = generate_points(10)\n",
    "for testpoint in testpoints:\n",
    "    print(find_color(points,testpoint))\n",
    "    \n"
   ]
  },
  {
   "cell_type": "markdown",
   "metadata": {},
   "source": [
    "# K-NN i planen\n",
    "Herunder gennemgår vi K-NN i planen. Vi starter med at importere de nødvendige biblioteker.\n",
    "\n",
    "\n",
    "## Pseudokode for K-NN (K-Nærmeste Naboer) fra bunden i planen\n",
    "I det følgende vil vi gennemgå koden for KNN-algoritmen i planen.\n",
    "\n",
    "Betragt nogle punkter i 2D-planen. De er på formen (x,y) og hvert punkt har en farve. Enten rød eller blå. \n",
    "\n",
    "Vi har nogle punkter som vi kender farven på. Vi kalder dem træningspunkterne. \n",
    "\n",
    "Målet for KNN er at finde farven på et nyt punkt, som vi ikke kender farven på. Vi kalder det for testpunktet.\n",
    "\n",
    "Herunder en forklaring af KNN-algoritmen i pseudokode. \n",
    "\n",
    "```python\n",
    "# KNN-algoritmen\n",
    "# Input:\n",
    "#   træningspunkter: en liste af punkter med kendt farve\n",
    "#   testpunkt: et punkt som vi ikke kender farven på\n",
    "#   k: antal punkter vi vil sammenligne med\n",
    "# Output:\n",
    "#   farven på testpunktet\n",
    "\n",
    "```\n",
    "Herunder i detaljer hvorledes algoritmen fungerer:\n",
    "\n",
    "```python\n",
    "# 1. Beregn afstanden mellem testpunktet og hvert træningspunkt\n",
    "# 2. Sorter træningspunkterne efter afstand til testpunktet\n",
    "# 3. Vælg de k nærmeste træningspunkter\n",
    "# 4. Tæl antallet af røde og blå punkter blandt de k nærmeste\n",
    "# 5. Hvis der er flere røde end blå punkter, returner rød\n",
    "# 6. Ellers returner blå\n",
    "```"
   ]
  },
  {
   "cell_type": "markdown",
   "metadata": {},
   "source": [
    "## Implementation af KNN i Python fra bunden\n",
    "I det følgende vi implementere KNN-algoritmen i Python i 2d fra bunden. .\n",
    "\n",
    "Vi starter med at importere de nødvendige biblioteker:\n",
    "```python\n",
    "import math\n",
    "import random\n",
    "import numpy as np\n",
    "import matplotlib.pyplot as plt\n",
    "```\n",
    "Vi definerer en funktion til at generere tilfældige punkter i 2d:\n",
    "\n",
    "```python\n",
    "def generate_points(n):\n",
    "    points = []\n",
    "    for i in range(n):\n",
    "        x = random.uniform(-1,1)\n",
    "        y = random.uniform(-1,1)\n",
    "        points.append((x,y))\n",
    "    return points\n",
    "\n",
    "Vi bemærker, at random.uniform returnerer et tal mellem -1 og 1. Vi kan derfor bruge den til at generere en liste af tal mellem -1 og 1. \n",
    "\n",
    "Lad os afprøve funktionen:\n",
    "```python\n",
    "points = generate_points(10)\n",
    "print(points)\n",
    "```\n",
    "Vi kan nu visualisere punkterne i et koordinatsystem:\n",
    "```python\n",
    "def plot_points(points):\n",
    "    x = [p[0] for p in points]\n",
    "    y = [p[1] for p in points]\n",
    "    plt.scatter(x,y)\n",
    "    plt.show()\n",
    "```\n",
    "Vi kan nu afprøve funktionen:\n",
    "```python\n",
    "plot_points(points)\n",
    "```\n",
    "\n",
    "Vi kan nu generere to lister af punkter, som vi kan bruge til at træne vores KNN-algoritme på. Vi genererer 1000 punkter i hver liste:\n",
    "```python\n",
    "points1 = generate_points(1000)\n",
    "points2 = generate_points(1000)\n",
    "```\n",
    "\n",
    "Vi kan nu visualisere de to lister af punkter:\n",
    "```python\n",
    "plot_points(points1)\n",
    "plot_points(points2)\n",
    "```\n",
    "\n",
    "Vi kan nu definere en funktion til at beregne afstanden mellem to punkter:\n",
    "```python\n",
    "def distance(p1,p2):\n",
    "    return math.sqrt((p1[0]-p2[0])**2+(p1[1]-p2[1])**2)\n",
    "```\n",
    "\n",
    "Vi kan nu afprøve funktionen:\n",
    "```python\n",
    "print(distance((0,0),(1,1)))\n",
    "```\n",
    "\n",
    "Vi kan nu definere en funktion til at finde de k nærmeste naboer til et punkt:\n",
    "```python\n",
    "def find_k_nearest_neighbors(p,points,k):\n",
    "    distances = []\n",
    "    for point in points:\n",
    "        distances.append((distance(p,point),point))\n",
    "    distances.sort()\n",
    "    return distances[:k]\n",
    "```\n",
    "Her sørger sort for at sortere listen af tupler efter den første værdi i tuplen, som er afstanden. Vi kan nu afprøve funktionen:\n",
    "```python\n",
    "print(find_k_nearest_neighbors((0,0),points1,5))\n",
    "```\n",
    "\n",
    "Vi kan nu definere en funktion til at finde den hyppigste klasse blandt de k nærmeste naboer:\n",
    "```python\n",
    "def find_most_frequent_class(neighbors):\n",
    "    classes = {}\n",
    "    for neighbor in neighbors:\n",
    "        if neighbor[1] in classes:\n",
    "            classes[neighbor[1]] += 1\n",
    "        else:\n",
    "            classes[neighbor[1]] = 1\n",
    "    return max(classes, key=classes.get)\n",
    "```\n",
    "I denne kode bruger vi en dictionary til at tælle antallet af forekomster af hver klasse. Vi bruger max til at finde den klasse, som optræder flest gange.\n",
    "\n",
    "Vi kan nu afprøve funktionen:\n",
    "```python\n",
    "print(find_most_frequent_class(find_k_nearest_neighbors((0,0),points1,5)))\n",
    "```\n",
    "\n",
    "Så er vi endelig klar til at definere vores KNN-algoritme:\n",
    "```python\n",
    "def knn(p,points,k):\n",
    "    neighbors = find_k_nearest_neighbors(p,points,k)\n",
    "    return find_most_frequent_class(neighbors)\n",
    "```\n",
    "\n",
    "Vi kan nu afprøve funktionen:\n",
    "```python\n",
    "print(knn((0,0),points1,5))\n",
    "```\n",
    "eller\n",
    "```python\n",
    "print(knn((0,0),points2,5))\n",
    "```\n",
    "\n",
    "Vi bemærker, at vi undervejs har løst problemet ved at opdele det i mindre delproblemer, som vi har løst enkeltvis. Dette er en generel strategi, som vi vil bruge igen og igen.\n",
    "Det ses bl.a. ved at vi har defineret funktioner for at løse delproblemerne. Det er en god ide at opdele problemer i mindre delproblemer, da det ofte gør det nemmere at løse dem.\n"
   ]
  },
  {
   "cell_type": "markdown",
   "metadata": {},
   "source": [
    "## Implementation af K-NN ved brug af numpy, matplotlib og scipy\n",
    "I denne notebook vil vi implementere K-NN algoritmen ved brug af numpy, matplotlib og scipy. Vi vil bruge en række af de funktioner som vi har introduceret tidligere. Vi vil også introducere en række nye funktioner.\n",
    "\n",
    "Vi vil bruge følgende notation: \n",
    "- $X$ er en matrix med $n$ rækker og $m$ kolonner. \n",
    "- $x$ er en vektor med $m$ elementer. \n",
    "- $y$ er en vektor med $n$ elementer.\n",
    "- $x_i$ er en vektor med $m$ elementer.\n",
    "- $y_i$ er en skalar.\n",
    "- $x_{ij}$ er en skalar.\n",
    "- $y_{i}$ er en skalar.\n",
    "\n",
    "Lad os først foretage de nødvendige importeringer:\n",
    "\n",
    "```python\n",
    "import numpy as np\n",
    "import matplotlib.pyplot as plt\n",
    "from scipy.spatial.distance import cdist\n",
    "```\n",
    "\n",
    "Herunder en række hjælpefunktioner, som blot angiver nogle forskellige måder at beregne distancen mellem to vektorer på:\n",
    "\n",
    "```python\n",
    "def euclidean_distance(x1, x2):\n",
    "    return np.sqrt(np.sum((x1 - x2)**2))\n",
    "\n",
    "def manhattan_distance(x1, x2):\n",
    "    return np.sum(np.abs(x1 - x2))\n",
    "\n",
    "def cosine_distance(x1, x2):\n",
    "    return 1 - np.dot(x1, x2) / (np.sqrt(np.dot(x1, x1)) * np.sqrt(np.dot(x2, x2)))\n",
    "\n",
    "def hamming_distance(x1, x2):\n",
    "    return np.sum(x1 != x2)\n",
    "\n",
    "def minkowski_distance(x1, x2, p):\n",
    "    return np.sum(np.abs(x1 - x2)**p)**(1/p)\n",
    "```\n",
    "\n",
    "Lad os nu formulere K-NN algoritmen:\n",
    "\n",
    "```python\n",
    "def knn(X_train, y_train, x_test, k, distance_metric):\n",
    "    distances = []\n",
    "    for i in range(len(X_train)):\n",
    "        distances.append(distance_metric(X_train[i], x_test))\n",
    "    distances = np.array(distances)\n",
    "    k_nearest = np.argsort(distances)[:k]\n",
    "    k_nearest_labels = y_train[k_nearest]\n",
    "    return np.bincount(k_nearest_labels).argmax()\n",
    "```\n",
    "Her er distance_metric en funktion som tager to vektorer som input og returnerer en skalar, distances et array med afstande fra x_test til alle punkter i X_train, k_nearest et array med de k nærmeste punkter i X_train og k_nearest_labels et array med de tilhørende labels.\n",
    "\n",
    "Lad os nu teste vores K-NN algoritme på Iris-datasættet:\n",
    "\n",
    "```python\n",
    "from sklearn.datasets import load_iris\n",
    "iris = load_iris()\n",
    "X = iris.data\n",
    "y = iris.target\n",
    "```\n",
    "\n",
    "Vi vil nu opdele datasættet i et træningssæt og et testsæt:\n",
    "\n",
    "```python\n",
    "from sklearn.model_selection import train_test_split\n",
    "X_train, X_test, y_train, y_test = train_test_split(X, y)\n",
    "```\n",
    "\n",
    "Vi vil nu teste vores K-NN algoritme på et enkelt punkt:\n",
    "\n",
    "```python\n",
    "x_test = X_test[0]\n",
    "y_test = y_test[0]\n",
    "knn(X_train, y_train, x_test, 5, euclidean_distance)\n",
    "```\n",
    "\n",
    "Vi vil nu teste vores K-NN algoritme på alle punkter i testsættet:\n",
    "\n",
    "```python\n",
    "y_pred = []\n",
    "for i in range(len(X_test)):\n",
    "    y_pred.append(knn(X_train, y_train, X_test[i], 5, euclidean_distance))\n",
    "y_pred = np.array(y_pred)\n",
    "```\n",
    "\n",
    "Vi vil nu beregne nøjagtigheden af vores K-NN algoritme:\n",
    "\n",
    "```python\n",
    "np.sum(y_pred == y_test) / len(y_test)\n",
    "```\n",
    "\n",
    "Vi vil nu visualisere vores K-NN algoritme:\n",
    "\n",
    "```python\n",
    "plt.figure(figsize=(10, 10))\n",
    "plt.scatter(X_test[:, 0], X_test[:, 1], c=y_pred, cmap='rainbow')\n",
    "plt.scatter(X_train[:, 0], X_train[:, 1], c=y_train, cmap='rainbow')\n",
    "plt.show()\n",
    "```\n",
    "\n",
    "Vi vil nu visualisere vores K-NN algoritme med en contour plot:\n",
    "\n",
    "```python\n",
    "plt.figure(figsize=(10, 10))\n",
    "plt.scatter(X_test[:, 0], X_test[:, 1], c=y_pred, cmap='rainbow')\n",
    "plt.scatter(X_train[:, 0], X_train[:, 1], c=y_train, cmap='rainbow')\n",
    "plt.contourf(X_test[:, 0], X_test[:, 1], y_pred, alpha=0.2, cmap='rainbow')\n",
    "plt.show()\n",
    "```\n"
   ]
  },
  {
   "cell_type": "markdown",
   "metadata": {},
   "source": [
    "## KNN i scikit-learn\n",
    "Hvis man ikke orker at implementere den selv, er det muligt at bruge scikit-learn's implementering af KNN. Det er en del af deres supervised learning modul, som også indeholder en række andre algoritmer.\n",
    "\n",
    "Herunder illustrerer vi hvorledes scikit-learn's KNN kan bruges til at klassificere iris-blomster. Vi starter med at importere de nødvendige biblioteker og indlæse data:\n"
   ]
  },
  {
   "cell_type": "code",
   "execution_count": null,
   "metadata": {},
   "outputs": [],
   "source": [
    "# indlæs pakker\n",
    "import numpy as np\n",
    "import matplotlib.pyplot as plt\n",
    "from sklearn import datasets\n",
    "from sklearn.neighbors import KNeighborsClassifier\n",
    "from sklearn.model_selection import train_test_split\n",
    "from sklearn.metrics import accuracy_score\n",
    "\n",
    "iris = datasets.load_iris()\n",
    "X = iris.data\n",
    "y = iris.target\n",
    "\n"
   ]
  },
  {
   "cell_type": "markdown",
   "metadata": {},
   "source": [
    "Vi splitter data op i trænings- og testdata:\n",
    "\n"
   ]
  },
  {
   "cell_type": "code",
   "execution_count": null,
   "metadata": {},
   "outputs": [],
   "source": [
    "\n",
    "X_train, X_test, y_train, y_test = train_test_split(X, y, test_size=0.2)"
   ]
  },
  {
   "cell_type": "code",
   "execution_count": null,
   "metadata": {},
   "outputs": [
    {
     "name": "stdout",
     "output_type": "stream",
     "text": [
      "0.9333333333333333\n",
      "[0]\n"
     ]
    }
   ],
   "source": [
    "\n",
    "# Vi opretter en KNN-instans og træner den på træningsdata:\n",
    "\n",
    "knn = KNeighborsClassifier(n_neighbors=3)\n",
    "knn.fit(X_train, y_train)\n",
    "\n",
    "#Vi kan nu bruge den til at forudsige klassen for testdata:\n",
    "\n",
    "y_pred = knn.predict(X_test)\n",
    "\n",
    "#Vi kan nu beregne hvor godt den klarer sig på testdata:\n",
    "\n",
    "print(accuracy_score(y_test, y_pred))\n",
    "\n",
    "# Vi kan også bruge den til at forudsige klassen for en ny blomst:\n",
    "\n",
    "new_flower = np.array([[5.1, 3.5, 1.4, 0.2]])\n",
    "print(knn.predict(new_flower))\n"
   ]
  },
  {
   "cell_type": "code",
   "execution_count": null,
   "metadata": {},
   "outputs": [
    {
     "name": "stdout",
     "output_type": "stream",
     "text": [
      "1 0.9666666666666667\n",
      "3 0.9333333333333333\n",
      "5 0.9333333333333333\n",
      "7 0.9666666666666667\n",
      "9 1.0\n",
      "11 0.9666666666666667\n",
      "13 1.0\n",
      "15 1.0\n",
      "17 1.0\n",
      "19 1.0\n",
      "21 1.0\n",
      "23 0.9666666666666667\n",
      "25 0.9333333333333333\n",
      "27 0.9666666666666667\n",
      "29 0.9666666666666667\n",
      "31 0.9666666666666667\n",
      "33 0.9333333333333333\n",
      "35 0.9333333333333333\n",
      "37 0.9333333333333333\n",
      "39 0.9333333333333333\n",
      "41 0.9333333333333333\n",
      "43 0.9333333333333333\n",
      "45 0.9333333333333333\n",
      "47 0.9\n",
      "49 0.9\n"
     ]
    },
    {
     "data": {
      "text/plain": [
       "[<matplotlib.lines.Line2D at 0x213a1a76df0>]"
      ]
     },
     "execution_count": 7,
     "metadata": {},
     "output_type": "execute_result"
    },
    {
     "data": {
      "image/png": "[encoded data removed]",
      "text/plain": [
       "<Figure size 640x480 with 1 Axes>"
      ]
     },
     "metadata": {},
     "output_type": "display_data"
    }
   ],
   "source": [
    "# lad os teste med forskellige værdier af k:\n",
    "\n",
    "for k in range(1,50,2):\n",
    "    knn = KNeighborsClassifier(n_neighbors=k)\n",
    "    knn.fit(X_train, y_train)\n",
    "    y_pred = knn.predict(X_test)\n",
    "    print(k,accuracy_score(y_test, y_pred))\n",
    "\n",
    "# plot præcisionen som funktion af k:\n",
    "\n",
    "accuracies = []\n",
    "for k in range(1,50,2):\n",
    "    knn = KNeighborsClassifier(n_neighbors=k)\n",
    "    knn.fit(X_train, y_train)\n",
    "    y_pred = knn.predict(X_test)\n",
    "    accuracies.append(accuracy_score(y_test, y_pred))\n",
    "plt.plot(range(1,50,2),accuracies)"
   ]
  },
  {
   "cell_type": "markdown",
   "metadata": {},
   "source": [
    "# Nyt eksempel på brug af knn: Brystkræft\n",
    "Vi vil nu se på et nyt eksempel på brug af KNN. Vi vil bruge KNN til at forudsige om en person har brystkræft eller ej. Vi vil bruge et datasæt fra scikit-learn, som indeholder data om brystkræft hos 569 personer. Vi starter med at importere de nødvendige biblioteker og indlæse data:\n",
    "\n"
   ]
  },
  {
   "cell_type": "code",
   "execution_count": null,
   "metadata": {},
   "outputs": [
    {
     "name": "stdout",
     "output_type": "stream",
     "text": [
      "dict_keys(['data', 'target', 'frame', 'target_names', 'DESCR', 'feature_names', 'filename', 'data_module'])\n",
      "['mean radius' 'mean texture' 'mean perimeter' 'mean area'\n",
      " 'mean smoothness' 'mean compactness' 'mean concavity'\n",
      " 'mean concave points' 'mean symmetry' 'mean fractal dimension'\n",
      " 'radius error' 'texture error' 'perimeter error' 'area error'\n",
      " 'smoothness error' 'compactness error' 'concavity error'\n",
      " 'concave points error' 'symmetry error' 'fractal dimension error'\n",
      " 'worst radius' 'worst texture' 'worst perimeter' 'worst area'\n",
      " 'worst smoothness' 'worst compactness' 'worst concavity'\n",
      " 'worst concave points' 'worst symmetry' 'worst fractal dimension']\n",
      "['malignant' 'benign']\n",
      "[[1.799e+01 1.038e+01 1.228e+02 ... 2.654e-01 4.601e-01 1.189e-01]\n",
      " [2.057e+01 1.777e+01 1.329e+02 ... 1.860e-01 2.750e-01 8.902e-02]\n",
      " [1.969e+01 2.125e+01 1.300e+02 ... 2.430e-01 3.613e-01 8.758e-02]\n",
      " ...\n",
      " [1.660e+01 2.808e+01 1.083e+02 ... 1.418e-01 2.218e-01 7.820e-02]\n",
      " [2.060e+01 2.933e+01 1.401e+02 ... 2.650e-01 4.087e-01 1.240e-01]\n",
      " [7.760e+00 2.454e+01 4.792e+01 ... 0.000e+00 2.871e-01 7.039e-02]]\n"
     ]
    }
   ],
   "source": [
    "# første gang vi bruger en pakke skal vi importere den sklearn breast cancer dataset:\n",
    "from sklearn.datasets import load_breast_cancer\n",
    "cancer = load_breast_cancer()\n",
    "\n",
    "# Vi kan se hvilke data der er i datasættet:\n",
    "print(cancer.keys())\n",
    "\n",
    "# Vi kan se hvilke features der er i datasættet:\n",
    "print(cancer.feature_names)\n",
    "\n",
    "# Vi kan se hvilke klasser der er i datasættet:\n",
    "print(cancer.target_names)\n",
    "\n",
    "# Vi kan se hvilke data der er i datasættet:\n",
    "print(cancer.data)\n",
    "\n",
    "\n"
   ]
  },
  {
   "cell_type": "code",
   "execution_count": null,
   "metadata": {},
   "outputs": [
    {
     "name": "stdout",
     "output_type": "stream",
     "text": [
      "0.9473684210526315\n",
      "1 0.956140350877193\n",
      "3 0.9473684210526315\n",
      "5 0.956140350877193\n",
      "7 0.956140350877193\n",
      "9 0.9649122807017544\n",
      "11 0.9649122807017544\n",
      "13 0.9649122807017544\n",
      "15 0.9649122807017544\n",
      "17 0.9649122807017544\n",
      "19 0.9649122807017544\n",
      "21 0.9649122807017544\n",
      "23 0.9649122807017544\n",
      "25 0.9736842105263158\n",
      "27 0.9649122807017544\n",
      "29 0.9649122807017544\n",
      "31 0.956140350877193\n",
      "33 0.956140350877193\n",
      "35 0.956140350877193\n",
      "37 0.9649122807017544\n",
      "39 0.9649122807017544\n",
      "41 0.956140350877193\n",
      "43 0.9649122807017544\n",
      "45 0.9649122807017544\n",
      "47 0.956140350877193\n",
      "49 0.9649122807017544\n"
     ]
    },
    {
     "data": {
      "image/png": "[encoded data removed]",
      "text/plain": [
       "<Figure size 640x480 with 1 Axes>"
      ]
     },
     "metadata": {},
     "output_type": "display_data"
    }
   ],
   "source": [
    "# Lad os splitte datasættet i trænings- og testdata:\n",
    "X_train, X_test, y_train, y_test = train_test_split(cancer.data, cancer.target, test_size=0.2)\n",
    "\n",
    "# Vi opretter en KNN-instans og træner den på træningsdata:\n",
    "knn = KNeighborsClassifier(n_neighbors=3)\n",
    "knn.fit(X_train, y_train)\n",
    "\n",
    "#Vi kan nu bruge den til at forudsige klassen for testdata:\n",
    "y_pred = knn.predict(X_test)\n",
    "\n",
    "#Vi kan nu beregne hvor godt den klarer sig på testdata:\n",
    "print(accuracy_score(y_test, y_pred))\n",
    "\n",
    "# Lad os plotte præcisionen som funktion af k:\n",
    "\n",
    "accuracies = []\n",
    "for k in range(1,50,2):\n",
    "    knn = KNeighborsClassifier(n_neighbors=k)\n",
    "    knn.fit(X_train, y_train)\n",
    "    y_pred = knn.predict(X_test)\n",
    "    accuracies.append(accuracy_score(y_test, y_pred))\n",
    "    print(k,accuracy_score(y_test, y_pred))\n",
    "plt.plot(range(1,50,2),accuracies)\n",
    "\n",
    "plt.show()\n"
   ]
  },
  {
   "cell_type": "markdown",
   "metadata": {},
   "source": [
    "# KNN på MNIST\n",
    "\n",
    "I det følgende vil vi bruge KNN til at klassificere tal fra MNIST-datasættet. Vi starter med at importere de nødvendige biblioteker og indlæse data:"
   ]
  },
  {
   "cell_type": "code",
   "execution_count": null,
   "metadata": {},
   "outputs": [
    {
     "name": "stdout",
     "output_type": "stream",
     "text": [
      "dict_keys(['data', 'target', 'frame', 'feature_names', 'target_names', 'images', 'DESCR'])\n",
      "['pixel_0_0', 'pixel_0_1', 'pixel_0_2', 'pixel_0_3', 'pixel_0_4', 'pixel_0_5', 'pixel_0_6', 'pixel_0_7', 'pixel_1_0', 'pixel_1_1', 'pixel_1_2', 'pixel_1_3', 'pixel_1_4', 'pixel_1_5', 'pixel_1_6', 'pixel_1_7', 'pixel_2_0', 'pixel_2_1', 'pixel_2_2', 'pixel_2_3', 'pixel_2_4', 'pixel_2_5', 'pixel_2_6', 'pixel_2_7', 'pixel_3_0', 'pixel_3_1', 'pixel_3_2', 'pixel_3_3', 'pixel_3_4', 'pixel_3_5', 'pixel_3_6', 'pixel_3_7', 'pixel_4_0', 'pixel_4_1', 'pixel_4_2', 'pixel_4_3', 'pixel_4_4', 'pixel_4_5', 'pixel_4_6', 'pixel_4_7', 'pixel_5_0', 'pixel_5_1', 'pixel_5_2', 'pixel_5_3', 'pixel_5_4', 'pixel_5_5', 'pixel_5_6', 'pixel_5_7', 'pixel_6_0', 'pixel_6_1', 'pixel_6_2', 'pixel_6_3', 'pixel_6_4', 'pixel_6_5', 'pixel_6_6', 'pixel_6_7', 'pixel_7_0', 'pixel_7_1', 'pixel_7_2', 'pixel_7_3', 'pixel_7_4', 'pixel_7_5', 'pixel_7_6', 'pixel_7_7']\n"
     ]
    }
   ],
   "source": [
    "#Først indlæser vi pakkerne:\n",
    "import numpy as np\n",
    "import matplotlib.pyplot as plt\n",
    "from sklearn import datasets\n",
    "from sklearn.neighbors import KNeighborsClassifier\n",
    "from sklearn.model_selection import train_test_split\n",
    "from sklearn.metrics import accuracy_score\n",
    "\n",
    "# Vi indlæser datasættet:\n",
    "digits = datasets.load_digits()\n",
    "\n",
    "# Vi kan se hvilke data der er i datasættet:\n",
    "print(digits.keys())\n",
    "\n",
    "# Vi kan se hvilke features der er i datasættet:\n",
    "print(digits.feature_names)\n",
    "\n",
    "# Vi kan se hvilke klasser der er i datasættet:'\n",
    "print(digits.target_names)\n",
    "\n"
   ]
  },
  {
   "cell_type": "code",
   "execution_count": null,
   "metadata": {},
   "outputs": [
    {
     "name": "stdout",
     "output_type": "stream",
     "text": [
      "0.9805555555555555\n",
      "1 0.9805555555555555\n",
      "3 0.9805555555555555\n",
      "5 0.9805555555555555\n",
      "7 0.9861111111111112\n",
      "9 0.9805555555555555\n",
      "11 0.9833333333333333\n",
      "13 0.975\n",
      "15 0.9777777777777777\n",
      "17 0.9722222222222222\n",
      "19 0.9638888888888889\n",
      "21 0.9638888888888889\n",
      "23 0.9611111111111111\n",
      "25 0.9583333333333334\n",
      "27 0.9555555555555556\n",
      "29 0.9527777777777777\n",
      "31 0.9527777777777777\n",
      "33 0.9472222222222222\n",
      "35 0.9472222222222222\n",
      "37 0.9416666666666667\n",
      "39 0.9416666666666667\n",
      "41 0.9361111111111111\n",
      "43 0.9361111111111111\n",
      "45 0.9305555555555556\n",
      "47 0.9361111111111111\n",
      "49 0.9333333333333333\n"
     ]
    },
    {
     "data": {
      "image/png": "[encoded data removed]",
      "text/plain": [
       "<Figure size 640x480 with 1 Axes>"
      ]
     },
     "metadata": {},
     "output_type": "display_data"
    }
   ],
   "source": [
    "# Lad os klargøre datasættet:\n",
    "\n",
    "X = digits.data\n",
    "y = digits.target\n",
    "\n",
    "# Lad os splitte datasættet i trænings- og testdata:\n",
    "X_train, X_test, y_train, y_test = train_test_split(X, y, test_size=0.2)\n",
    "\n",
    "# Vi opretter en KNN-instans og træner den på træningsdata:\n",
    "knn = KNeighborsClassifier(n_neighbors=3)\n",
    "knn.fit(X_train, y_train)\n",
    "\n",
    "#Vi kan nu bruge den til at forudsige klassen for testdata:\n",
    "y_pred = knn.predict(X_test)\n",
    "\n",
    "#Vi kan nu beregne hvor godt den klarer sig på testdata:\n",
    "print(accuracy_score(y_test, y_pred))\n",
    "\n",
    "# Lad os plotte præcisionen som funktion af k:\n",
    "\n",
    "accuracies = []\n",
    "for k in range(1,50,2):\n",
    "    knn = KNeighborsClassifier(n_neighbors=k)\n",
    "    knn.fit(X_train, y_train)\n",
    "    y_pred = knn.predict(X_test)\n",
    "    accuracies.append(accuracy_score(y_test, y_pred))\n",
    "    print(k,accuracy_score(y_test, y_pred))\n",
    "plt.plot(range(1,50,2),accuracies)\n",
    "\n",
    "plt.show()\n"
   ]
  }
 ],
 "metadata": {
  "kernelspec": {
   "display_name": "base",
   "language": "python",
   "name": "python3"
  },
  "language_info": {
   "codemirror_mode": {
    "name": "ipython",
    "version": 3
   },
   "file_extension": ".py",
   "mimetype": "text/x-python",
   "name": "python",
   "nbconvert_exporter": "python",
   "pygments_lexer": "ipython3",
   "version": "3.8.16"
  },
  "orig_nbformat": 4
 },
 "nbformat": 4,
 "nbformat_minor": 2
}
