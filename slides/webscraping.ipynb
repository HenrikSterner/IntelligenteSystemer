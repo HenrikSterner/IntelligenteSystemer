{
 "cells": [
  {
   "cell_type": "markdown",
   "metadata": {},
   "source": [
    "# Introduktion til webscraping i Python\n",
    "## Af Henrik Sterner\n",
    "\n",
    "I det følgende vil vi se på hvorledes man kan bruge webscraping til at samle data ind fra hjemmeside, som så kan behandles og analyseres på i Python. "
   ]
  },
  {
   "cell_type": "markdown",
   "metadata": {},
   "source": [
    "## Hvad er webscraping?\n",
    "Webscraping er en metode til at indsamle data fra hjemmesider. Det kan være data, som er gemt i tabeller, eller det kan være data, som er gemt i tekst.\n",
    "\n",
    "## Hvorfor webscraping?\n",
    "Webscraping kan bruges i mange forskellige sammenhænge. Det kan eksempelvis bruges til at indsamle data til en analyse, eller det kan bruges til at indsamle data til en maskinlæringsmodel.\n",
    "\n"
   ]
  },
  {
   "cell_type": "markdown",
   "metadata": {},
   "source": [
    "## Webscraping i python\n",
    "I nærværende tekst benyttes biblioteket BeautifulSoup til at webscrape. BeautifulSoup er et bibliotek, som kan bruges til at webscrape i Python. Det er et meget populært bibliotek, som er nemt at bruge.\n",
    "\n",
    "## Eksempel på webscraping\n",
    "I det følgende vil vi se på et eksempel på webscraping. Vi vil webscrape data fra en hjemmeside, som indeholder information omkring de danske kommuner. Vi vil webscrape data omkring kommunernes navn, indbyggertal og areal.\n",
    "\n",
    "## Import af biblioteker\n",
    "Vi starter med at importere de biblioteker, som vi skal bruge. Vi skal bruge biblioteket BeautifulSoup til at webscrape, og vi skal bruge biblioteket pandas til at behandle data.\n",
    "\n",
    "```python\n",
    "from bs4 import BeautifulSoup\n",
    "import pandas as pd\n",
    "```\n",
    "\n",
    "## Indlæsning af data\n",
    "Vi indlæser data fra hjemmesiden https://www.kmd.dk/loesninger/kommuner-og-regioner/kommuner/kommunefakta. Vi indlæser data ved hjælp af funktionen read_html fra biblioteket pandas. Vi får en liste med dataframes, og vi vælger den første dataframe i listen.\n",
    "\n",
    "```python\n",
    "url = 'https://www.kmd.dk/loesninger/kommuner-og-regioner/kommuner/kommunefakta'\n",
    "df = pd.read_html(url)[0]\n",
    "```\n",
    "\n",
    "## Data\n",
    "Vi ser på de første fem rækker af data.\n",
    "\n",
    "```python\n",
    "df.head()\n",
    "```\n",
    "\n",
    "|    | Kommune | Indbyggere | Areal (km2) |\n",
    "|---:|:--------|-----------:|------------:|\n",
    "|  0 | København | 632340 | 86 |\n",
    "|  1 | Aarhus | 349983 | 468 |\n",
    "|  2 | Aalborg | 217075 | 1139 |\n",
    "|  3 | Odense | 204718 | 305 |\n",
    "|  4 | Vejle | 116468 | 1055 |\n",
    "\n"
   ]
  },
  {
   "cell_type": "code",
   "execution_count": null,
   "metadata": {},
   "outputs": [],
   "source": [
    "# webscrape med beautiful soup\n",
    "\n",
    "import requests\n",
    "from bs4 import BeautifulSoup\n",
    "import pandas as pd\n",
    "\n",
    "# url til webscraping\n",
    "\n",
    "\n",
    "\n",
    "\n"
   ]
  }
 ],
 "metadata": {
  "language_info": {
   "name": "python"
  }
 },
 "nbformat": 4,
 "nbformat_minor": 2
}
